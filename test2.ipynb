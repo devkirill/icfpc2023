{
 "cells": [
  {
   "cell_type": "code",
   "execution_count": 5,
   "metadata": {
    "collapsed": true,
    "ExecuteTime": {
     "end_time": "2023-11-03T20:45:05.639999300Z",
     "start_time": "2023-11-03T20:45:05.566099400Z"
    }
   },
   "outputs": [],
   "source": [
    "data class Problem(\n",
    "    val room_width: Double,\n",
    "    val room_height: Double,\n",
    ") {\n",
    "\n",
    "}"
   ]
  },
  {
   "cell_type": "code",
   "execution_count": 2,
   "outputs": [],
   "source": [
    "USE {\n",
    "    dependencies {\n",
    "        // https://mvnrepository.com/artifact/com.google.code.gson/gson\n",
    "        implementation(\"com.google.code.gson:gson:2.10.1\")\n",
    "    }\n",
    "}"
   ],
   "metadata": {
    "collapsed": false,
    "ExecuteTime": {
     "end_time": "2023-11-03T20:42:17.784642900Z",
     "start_time": "2023-11-03T20:42:17.286371300Z"
    }
   }
  },
  {
   "cell_type": "markdown",
   "source": [],
   "metadata": {
    "collapsed": false
   }
  },
  {
   "cell_type": "code",
   "execution_count": 3,
   "outputs": [],
   "source": [
    "import com.google.gson.Gson\n",
    "val gsom = Gson()"
   ],
   "metadata": {
    "collapsed": false,
    "ExecuteTime": {
     "end_time": "2023-11-03T20:42:17.994999900Z",
     "start_time": "2023-11-03T20:42:17.786700800Z"
    }
   }
  },
  {
   "cell_type": "code",
   "execution_count": 4,
   "outputs": [
    {
     "name": "stderr",
     "output_type": "stream",
     "text": [
      "Line_5.jupyter.kts (1:1 - 5) Unresolved reference: gson"
     ]
    }
   ],
   "source": [
    "gson.parse"
   ],
   "metadata": {
    "collapsed": false,
    "ExecuteTime": {
     "end_time": "2023-11-03T20:42:18.086643800Z",
     "start_time": "2023-11-03T20:42:17.996956100Z"
    }
   }
  }
 ],
 "metadata": {
  "kernelspec": {
   "display_name": "Kotlin",
   "language": "kotlin",
   "name": "kotlin"
  },
  "language_info": {
   "name": "kotlin",
   "version": "1.8.0",
   "mimetype": "text/x-kotlin",
   "file_extension": ".kt",
   "pygments_lexer": "kotlin",
   "codemirror_mode": "text/x-kotlin",
   "nbconvert_exporter": ""
  }
 },
 "nbformat": 4,
 "nbformat_minor": 0
}
